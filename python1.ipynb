{
 "cells": [
  {
   "cell_type": "markdown",
   "id": "5aaee47e-0daa-4698-a987-6548cbf8e495",
   "metadata": {},
   "source": [
    "# 파이썬 #1 (인트로 & 변수)"
   ]
  },
  {
   "cell_type": "markdown",
   "id": "ecbd1d92-6700-401e-b1f8-6a1760b61acd",
   "metadata": {},
   "source": [
    "### 파이썬은 어디에 쓰이는가?"
   ]
  },
  {
   "cell_type": "markdown",
   "id": "3965ce8b-6cc5-49fd-90bd-e26269d74a44",
   "metadata": {},
   "source": [
    "- 웹 개발 (서버)\n",
    "- 소프트웨어 개발\n",
    "- 수학 (데이터)"
   ]
  },
  {
   "cell_type": "markdown",
   "id": "9022cd19-ff5c-4e8b-9bdc-a0bfb8af0c0f",
   "metadata": {},
   "source": [
    "----------"
   ]
  },
  {
   "cell_type": "markdown",
   "id": "a0e6e5f5-90bd-43cf-87c0-49659e3bd818",
   "metadata": {},
   "source": [
    "### 파이썬은 무엇을 할 수 있는가?"
   ]
  },
  {
   "cell_type": "markdown",
   "id": "31444067-ffd4-4a92-80e0-6947c24e3859",
   "metadata": {},
   "source": [
    "- 파이썬은 다양한 시스템 환경에서 사용할 수 있다.\n",
    "- 파이썬은 데이터베이스 시스템에 연결할 수 있고, 데이터를 읽거나 수정할 수 있다.\n",
    "- 파이썬은 빅데이터를 다룰 수 있고, 사람이 하기 어려운 수학적인 연산을 할 수 있다."
   ]
  },
  {
   "cell_type": "markdown",
   "id": "0328675f-0b00-44cb-81c8-d8708608f2dc",
   "metadata": {},
   "source": [
    "파이썬의 장점: 파이썬의 언어가 영어와 유사해서 처음 배우는 사람에게 접근성이 좋은 언어이다."
   ]
  },
  {
   "cell_type": "code",
   "execution_count": 1,
   "id": "e06f7c1e-f685-4c10-8676-ce420ded9756",
   "metadata": {},
   "outputs": [
    {
     "name": "stdout",
     "output_type": "stream",
     "text": [
      "Hello, World!\n"
     ]
    }
   ],
   "source": [
    "'''\n",
    "예시)\n",
    "print = \"복사하다\"라는 의미도 있지만 \"~를 뽑다\"라는 의미를 갖고 있어,\n",
    "         파이썬에서 결과값을 추출할 때 사용된다.\"\n",
    "'''\n",
    "print(\"Hello, World!\")\n"
   ]
  },
  {
   "cell_type": "markdown",
   "id": "cea8dd35-11b3-482a-8652-c567523b058a",
   "metadata": {},
   "source": [
    "----------"
   ]
  },
  {
   "cell_type": "markdown",
   "id": "fdefa406-09a6-444e-b464-18c147f6587e",
   "metadata": {},
   "source": [
    "또한, 파이썬을 종료할 때: exit()를 하면 파이썬이 종료된다."
   ]
  },
  {
   "cell_type": "markdown",
   "id": "6ecb108c-fdc3-47c2-ab44-af637a92f9f0",
   "metadata": {},
   "source": [
    "-----------"
   ]
  },
  {
   "cell_type": "markdown",
   "id": "ad8b8c3b-97b2-49a6-8e0d-36fc3f5508e9",
   "metadata": {},
   "source": [
    "# 변수"
   ]
  },
  {
   "cell_type": "markdown",
   "id": "62d0c2e5-c1f4-41e3-83ab-6fb8d9e23d04",
   "metadata": {},
   "source": [
    "### 파이썬 들여 쓰기"
   ]
  },
  {
   "cell_type": "markdown",
   "id": "9efb7cc6-2615-4c67-a9cf-410e031006a6",
   "metadata": {},
   "source": [
    "파이썬 문법 중 들여 쓰기가 가장 중요하다. 들여 쓰기가 잘못 되어 있으면,\n",
    "\"IndentationError:\"라는 들여 쓰기 문법 오류가 뜬다. "
   ]
  },
  {
   "cell_type": "code",
   "execution_count": 2,
   "id": "bdc20ccd-32ad-4871-a90c-76f51d32f4dc",
   "metadata": {},
   "outputs": [
    {
     "name": "stdout",
     "output_type": "stream",
     "text": [
      "5는 2보다 크다\n"
     ]
    }
   ],
   "source": [
    "'''\n",
    "예시)\n",
    "'''\n",
    "if 5 > 2:\n",
    "  print(\"5는 2보다 크다\")"
   ]
  },
  {
   "cell_type": "code",
   "execution_count": 3,
   "id": "c1613346-09e9-48e1-8348-7c86d0ae4f63",
   "metadata": {},
   "outputs": [
    {
     "ename": "IndentationError",
     "evalue": "expected an indented block after 'if' statement on line 1 (1272758813.py, line 2)",
     "output_type": "error",
     "traceback": [
      "\u001b[1;36m  Cell \u001b[1;32mIn[3], line 2\u001b[1;36m\u001b[0m\n\u001b[1;33m    print(\"5는 2보다 크다\")\u001b[0m\n\u001b[1;37m    ^\u001b[0m\n\u001b[1;31mIndentationError\u001b[0m\u001b[1;31m:\u001b[0m expected an indented block after 'if' statement on line 1\n"
     ]
    }
   ],
   "source": [
    "if 5 > 2:\n",
    "print(\"5는 2보다 크다\")"
   ]
  },
  {
   "cell_type": "markdown",
   "id": "6780a1b2-326d-460b-8999-883e117be97a",
   "metadata": {},
   "source": [
    "-----------"
   ]
  },
  {
   "cell_type": "markdown",
   "id": "284e672b-0e97-4f24-a308-b9938b304fdc",
   "metadata": {},
   "source": [
    "### 파이썬 변수 지정"
   ]
  },
  {
   "cell_type": "markdown",
   "id": "183c39f3-2057-47d6-9870-41a27e3eaf11",
   "metadata": {},
   "source": [
    "파이썬에서 문자나 단어에 변수를 지정할 수 있다."
   ]
  },
  {
   "cell_type": "code",
   "execution_count": 4,
   "id": "1fbcab27-f787-4026-a431-ad333d001ee4",
   "metadata": {},
   "outputs": [
    {
     "name": "stdout",
     "output_type": "stream",
     "text": [
      "5\n",
      "Hello, World!\n"
     ]
    }
   ],
   "source": [
    "'''\n",
    "예시)\n",
    "'''\n",
    "x = 5\n",
    "y = \"Hello, World!\"\n",
    "\n",
    "print(x)\n",
    "print(y)"
   ]
  },
  {
   "cell_type": "markdown",
   "id": "f1dba27a-69c1-4c79-b5d1-1901eb4bd707",
   "metadata": {},
   "source": [
    "-----------"
   ]
  },
  {
   "cell_type": "markdown",
   "id": "f8cc2d1c-d2ee-4dee-9f83-4a6e21a0702f",
   "metadata": {},
   "source": [
    "### 파이썬 주석 달기"
   ]
  },
  {
   "cell_type": "code",
   "execution_count": 5,
   "id": "af41b082-e99f-4ebd-8110-1e9200c6de96",
   "metadata": {},
   "outputs": [
    {
     "name": "stdout",
     "output_type": "stream",
     "text": [
      "Hello, World!\n"
     ]
    }
   ],
   "source": [
    "# 파이썬 주석달기\n",
    "\n",
    "'''\n",
    "여러줄 \n",
    "주석달기\n",
    "'''\n",
    "print(\"Hello, World!\")"
   ]
  },
  {
   "cell_type": "markdown",
   "id": "efd2f794-2288-4a09-9fa2-c79c319fd258",
   "metadata": {},
   "source": [
    "-----------"
   ]
  },
  {
   "cell_type": "markdown",
   "id": "d09528ae-aec1-408b-840c-574028bf9f5c",
   "metadata": {},
   "source": [
    "### 변수 지정하기"
   ]
  },
  {
   "cell_type": "code",
   "execution_count": 6,
   "id": "0697df3b-676b-4533-9d70-f60350fa5a3c",
   "metadata": {},
   "outputs": [
    {
     "name": "stdout",
     "output_type": "stream",
     "text": [
      "5\n",
      "Roy\n"
     ]
    }
   ],
   "source": [
    "x = 5\n",
    "y = \"Roy\"\n",
    "\n",
    "print(x)\n",
    "print(y)"
   ]
  },
  {
   "cell_type": "code",
   "execution_count": 7,
   "id": "60b68460-834e-485e-8dd6-a820ec5134f8",
   "metadata": {},
   "outputs": [
    {
     "name": "stdout",
     "output_type": "stream",
     "text": [
      "Sally\n"
     ]
    }
   ],
   "source": [
    "# 변수의 유형\n",
    "x = 4       # x의 변수 유형은 int임으로 숫자이다.\n",
    "x = \"Sally\" # x의 변수 유형 str임으로 글자이다.\n",
    "\n",
    "#파이썬의 코드는 위에서 아래로 계산하기 때문에 마지막으로 작성된 코드가 결과 값으로 나오게 된다.\n",
    "\n",
    "print(x)"
   ]
  },
  {
   "cell_type": "code",
   "execution_count": 8,
   "id": "0ea8806a-ee6f-4d03-99cf-f15a0a5cdd3b",
   "metadata": {},
   "outputs": [
    {
     "name": "stdout",
     "output_type": "stream",
     "text": [
      "3\n",
      "3\n",
      "3.0\n"
     ]
    }
   ],
   "source": [
    "#변수의 유형을 따로 지정하려면 캐스팅을 사용하면 된다.\n",
    "'''\n",
    "단, 변수를 지정할 때 변수 이름앞에 숫자를 넣거나 뛰어쓰는 불가능하며, \n",
    "두개의 단어를 연결할 경우 언더바를 사용해야한다.\n",
    "'''\n",
    "#예)\n",
    "x = str(3)    # x는 3(문자)\n",
    "y = int(3)    # y는 3\n",
    "z = float(3)  # z는 3.0\n",
    "\n",
    "print(x)\n",
    "print(y)\n",
    "print(z)"
   ]
  },
  {
   "cell_type": "code",
   "execution_count": 9,
   "id": "4df79443-9cf3-41f5-a672-626e8b2adee7",
   "metadata": {},
   "outputs": [
    {
     "name": "stdout",
     "output_type": "stream",
     "text": [
      "Orange\n",
      "Banana\n",
      "Cherry\n"
     ]
    }
   ],
   "source": [
    "#여러 변수를 한꺼번에 지정하는 법\n",
    "#예)\n",
    "x, y, z = \"Orange\", \"Banana\", \"Cherry\"\n",
    "\n",
    "print(x)\n",
    "print(y)\n",
    "print(z)"
   ]
  },
  {
   "cell_type": "code",
   "execution_count": 10,
   "id": "4c392004-69b5-48ae-934d-5ed488371ee9",
   "metadata": {},
   "outputs": [
    {
     "name": "stdout",
     "output_type": "stream",
     "text": [
      "Orange\n",
      "Orange\n",
      "Orange\n"
     ]
    }
   ],
   "source": [
    "#하나의 값을 여러 변수에 지정하는 법\n",
    "#예)\n",
    "x = y = z = \"Orange\"\n",
    "\n",
    "print(x)\n",
    "print(y)\n",
    "print(z)"
   ]
  },
  {
   "cell_type": "code",
   "execution_count": 11,
   "id": "01a3c983-173e-45ae-8540-5eeb803039a5",
   "metadata": {},
   "outputs": [
    {
     "name": "stdout",
     "output_type": "stream",
     "text": [
      "apple\n",
      "banana\n",
      "cherry\n"
     ]
    }
   ],
   "source": [
    "'''\n",
    "어떠한 값이 리스트나 튜플로 있을 때, 변수를 지정해서 값을 값을 가져올 수 있는데 \n",
    "이 방법을 언패킹이라고 한다.\n",
    "'''\n",
    "#예)\n",
    "fruits = [\"apple\", \"banana\", \"cherry\"]\n",
    "x, y, z = fruits\n",
    "\n",
    "print(x)\n",
    "print(y)\n",
    "print(z)"
   ]
  },
  {
   "cell_type": "code",
   "execution_count": 14,
   "id": "55d3bd95-5725-4983-8c7a-4deb8ff8506a",
   "metadata": {},
   "outputs": [
    {
     "name": "stdout",
     "output_type": "stream",
     "text": [
      "Python is awesome\n",
      "Pythonisawesome\n"
     ]
    }
   ],
   "source": [
    "# '+'를 사용해 값을 합칠 수 있다.\n",
    "# '문자(뛰어쓰기)'를 하지 않으면 결과 값이 'Pythonisawesome'으로 출력된다.\n",
    "\n",
    "#예)\n",
    "x = \"Python \"\n",
    "y = \"is \"\n",
    "z = \"awesome\"\n",
    "print(x + y + z)\n",
    "\n",
    "#뛰어쓰기를 하지 않은 예:\n",
    "a = \"Python\"\n",
    "b = \"is\"\n",
    "c = \"awesome\"\n",
    "print(a + b + c)"
   ]
  },
  {
   "cell_type": "code",
   "execution_count": 15,
   "id": "501a1259-e818-456e-ac56-215bbd780138",
   "metadata": {},
   "outputs": [
    {
     "name": "stdout",
     "output_type": "stream",
     "text": [
      "15\n"
     ]
    }
   ],
   "source": [
    "#수학적인 문제에는 '+'는 더하기로 인식된다.\n",
    "x = 5\n",
    "y = 10\n",
    "\n",
    "print(x + y)"
   ]
  },
  {
   "cell_type": "code",
   "execution_count": 16,
   "id": "375ad5dc-fcf5-4e41-89c4-ece5e41c813b",
   "metadata": {},
   "outputs": [
    {
     "ename": "TypeError",
     "evalue": "unsupported operand type(s) for +: 'int' and 'str'",
     "output_type": "error",
     "traceback": [
      "\u001b[1;31m---------------------------------------------------------------------------\u001b[0m",
      "\u001b[1;31mTypeError\u001b[0m                                 Traceback (most recent call last)",
      "Cell \u001b[1;32mIn[16], line 5\u001b[0m\n\u001b[0;32m      2\u001b[0m x \u001b[38;5;241m=\u001b[39m \u001b[38;5;241m5\u001b[39m\n\u001b[0;32m      3\u001b[0m y \u001b[38;5;241m=\u001b[39m \u001b[38;5;124m\"\u001b[39m\u001b[38;5;124mJohn\u001b[39m\u001b[38;5;124m\"\u001b[39m\n\u001b[1;32m----> 5\u001b[0m \u001b[38;5;28mprint\u001b[39m(x \u001b[38;5;241m+\u001b[39m y)\n",
      "\u001b[1;31mTypeError\u001b[0m: unsupported operand type(s) for +: 'int' and 'str'"
     ]
    }
   ],
   "source": [
    "#단, 문자 유형과 숫자 유형은 합쳐질 수 없다.\n",
    "x = 5\n",
    "y = \"John\"\n",
    "\n",
    "print(x + y)"
   ]
  },
  {
   "cell_type": "code",
   "execution_count": 17,
   "id": "7c56bd5e-11f6-493e-ac0f-a3679b018088",
   "metadata": {},
   "outputs": [
    {
     "name": "stdout",
     "output_type": "stream",
     "text": [
      "5 John\n"
     ]
    }
   ],
   "source": [
    "#문자 유형과 숫자 유형은 ','로 합쳐질 수 있다.\n",
    "x = 5\n",
    "y = \"John\"\n",
    "\n",
    "print(x, y)"
   ]
  },
  {
   "cell_type": "markdown",
   "id": "2f76b54b-4662-4e9a-a81a-7028cc29dec4",
   "metadata": {},
   "source": [
    "### 글로벌 변수"
   ]
  },
  {
   "cell_type": "code",
   "execution_count": 20,
   "id": "b8929102-a15b-4b2e-8ff7-edb2ac2c245c",
   "metadata": {},
   "outputs": [
    {
     "name": "stdout",
     "output_type": "stream",
     "text": [
      "Python is awesome\n"
     ]
    }
   ],
   "source": [
    "x = \"awesome\" #x는 글로벌 변수이다. 펑션 안과 밖에서 사용될 수 있다.\n",
    "\n",
    "def myfunc(): #펑션은 'print()'를 사용하지 안아도 결과 값을 출력할 수 있다.\n",
    "  print(\"Python is \" + x)\n",
    "\n",
    "myfunc()"
   ]
  },
  {
   "cell_type": "code",
   "execution_count": 21,
   "id": "fd0da7c4-5f74-4b5e-9ed0-16ccbd0c9744",
   "metadata": {},
   "outputs": [
    {
     "name": "stdout",
     "output_type": "stream",
     "text": [
      "Python is fantastic\n",
      "Python is awesome\n"
     ]
    }
   ],
   "source": [
    "#또 다른 예시:\n",
    "x = \"awesome\"\n",
    "\n",
    "def myfunc():\n",
    "  x = \"fantastic\"\n",
    "  print(\"Python is \" + x)\n",
    "\n",
    "myfunc()\n",
    "\n",
    "print(\"Python is \" + x)"
   ]
  },
  {
   "cell_type": "markdown",
   "id": "3075a281-8e9e-4465-a29a-b9f2ca3ec2f1",
   "metadata": {},
   "source": [
    "### 글로벌 키워드"
   ]
  },
  {
   "cell_type": "code",
   "execution_count": 24,
   "id": "d5608b5e-c384-4784-b1cc-433496e0ade7",
   "metadata": {},
   "outputs": [
    {
     "name": "stdout",
     "output_type": "stream",
     "text": [
      "Python is fantastic\n"
     ]
    }
   ],
   "source": [
    "#펑션 안에 'global' 키워드를 사용하면 x는 글로벌 변수로 지정된다.\n",
    "\n",
    "#예)\n",
    "def myfunc():\n",
    "  global x\n",
    "  x = \"fantastic\"\n",
    "\n",
    "myfunc()\n",
    "\n",
    "print(\"Python is \" + x)"
   ]
  },
  {
   "cell_type": "code",
   "execution_count": 26,
   "id": "2ded7613-92c2-4b97-a60d-9fb53c6211ee",
   "metadata": {},
   "outputs": [
    {
     "name": "stdout",
     "output_type": "stream",
     "text": [
      "Python is fantastic\n"
     ]
    }
   ],
   "source": [
    "#펑션 안에 있는 글로벌 변수를 변경하는 일이 생겼을 때, 글로벌 키워드를 사용하면 된다.\n",
    "\n",
    "#예)\n",
    "x = \"awesome\"\n",
    "\n",
    "def myfunc():\n",
    "  global x\n",
    "  x = \"fantastic\"\n",
    "\n",
    "myfunc()\n",
    "\n",
    "print(\"Python is \" + x)"
   ]
  },
  {
   "cell_type": "markdown",
   "id": "4fdbc90f-dcf9-42db-ba7b-17c9b4bb6088",
   "metadata": {},
   "source": [
    "----------\n"
   ]
  },
  {
   "cell_type": "code",
   "execution_count": null,
   "id": "a4e3d4b7-87d4-433e-9436-0e65f6c6bf5f",
   "metadata": {},
   "outputs": [],
   "source": []
  }
 ],
 "metadata": {
  "kernelspec": {
   "display_name": "Python 3 (ipykernel)",
   "language": "python",
   "name": "python3"
  },
  "language_info": {
   "codemirror_mode": {
    "name": "ipython",
    "version": 3
   },
   "file_extension": ".py",
   "mimetype": "text/x-python",
   "name": "python",
   "nbconvert_exporter": "python",
   "pygments_lexer": "ipython3",
   "version": "3.11.7"
  }
 },
 "nbformat": 4,
 "nbformat_minor": 5
}
