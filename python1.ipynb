{
 "cells": [
  {
   "cell_type": "markdown",
   "id": "5aaee47e-0daa-4698-a987-6548cbf8e495",
   "metadata": {},
   "source": [
    "# 파이썬 #1"
   ]
  },
  {
   "cell_type": "markdown",
   "id": "ecbd1d92-6700-401e-b1f8-6a1760b61acd",
   "metadata": {},
   "source": [
    "### 파이썬은 어디에 쓰이는가?"
   ]
  },
  {
   "cell_type": "markdown",
   "id": "3965ce8b-6cc5-49fd-90bd-e26269d74a44",
   "metadata": {},
   "source": [
    "- 웹 개발 (서버)\n",
    "- 소프트웨어 개발\n",
    "- 수학 (데이터)"
   ]
  },
  {
   "cell_type": "markdown",
   "id": "9022cd19-ff5c-4e8b-9bdc-a0bfb8af0c0f",
   "metadata": {},
   "source": [
    "----------"
   ]
  },
  {
   "cell_type": "markdown",
   "id": "a0e6e5f5-90bd-43cf-87c0-49659e3bd818",
   "metadata": {},
   "source": [
    "### 파이썬은 무엇을 할 수 있는가?"
   ]
  },
  {
   "cell_type": "markdown",
   "id": "31444067-ffd4-4a92-80e0-6947c24e3859",
   "metadata": {},
   "source": [
    "- 파이썬은 다양한 시스템 환경에서 사용할 수 있다.\n",
    "- 파이썬은 데이터베이스 시스템에 연결할 수 있고, 데이터를 읽거나 수정할 수 있다.\n",
    "- 파이썬은 빅데이터를 다룰 수 있고, 사람이 하기 어려운 수학적인 연산을 할 수 있다."
   ]
  },
  {
   "cell_type": "markdown",
   "id": "0328675f-0b00-44cb-81c8-d8708608f2dc",
   "metadata": {},
   "source": [
    "파이썬의 장점: 파이썬의 언어가 영어와 유사해서 처음 배우는 사람에게 접근성이 좋은 언어이다."
   ]
  },
  {
   "cell_type": "code",
   "execution_count": 2,
   "id": "e06f7c1e-f685-4c10-8676-ce420ded9756",
   "metadata": {},
   "outputs": [
    {
     "name": "stdout",
     "output_type": "stream",
     "text": [
      "Hello, World!\n"
     ]
    }
   ],
   "source": [
    "'''\n",
    "예시)\n",
    "print = \"복사하다\"라는 의미도 있지만 \"~를 뽑다\"라는 의미를 갖고 있어,\n",
    "         파이썬에서 결과값을 추출할 때 사용된다.\"\n",
    "'''\n",
    "print(\"Hello, World!\")\n"
   ]
  },
  {
   "cell_type": "markdown",
   "id": "cea8dd35-11b3-482a-8652-c567523b058a",
   "metadata": {},
   "source": [
    "----------"
   ]
  },
  {
   "cell_type": "markdown",
   "id": "fdefa406-09a6-444e-b464-18c147f6587e",
   "metadata": {},
   "source": [
    "또한, 파이썬을 종료할 때: exit()를 하면 파이썬이 종료된다."
   ]
  },
  {
   "cell_type": "markdown",
   "id": "6ecb108c-fdc3-47c2-ab44-af637a92f9f0",
   "metadata": {},
   "source": [
    "-----------"
   ]
  },
  {
   "cell_type": "markdown",
   "id": "62d0c2e5-c1f4-41e3-83ab-6fb8d9e23d04",
   "metadata": {},
   "source": [
    "### 파이썬 들여 쓰기"
   ]
  },
  {
   "cell_type": "markdown",
   "id": "9efb7cc6-2615-4c67-a9cf-410e031006a6",
   "metadata": {},
   "source": [
    "파이썬 문법 중 들여 쓰기가 가장 중요하다. 들여 쓰기가 잘못 되어 있으면,\n",
    "\"IndentationError:\"라는 들여 쓰기 문법 오류가 뜬다. "
   ]
  },
  {
   "cell_type": "code",
   "execution_count": 2,
   "id": "bdc20ccd-32ad-4871-a90c-76f51d32f4dc",
   "metadata": {},
   "outputs": [
    {
     "name": "stdout",
     "output_type": "stream",
     "text": [
      "5는 2보다 크다\n"
     ]
    }
   ],
   "source": [
    "'''\n",
    "예시)\n",
    "'''\n",
    "if 5 > 2:\n",
    "  print(\"5는 2보다 크다\")"
   ]
  },
  {
   "cell_type": "code",
   "execution_count": 3,
   "id": "c1613346-09e9-48e1-8348-7c86d0ae4f63",
   "metadata": {},
   "outputs": [
    {
     "ename": "IndentationError",
     "evalue": "expected an indented block after 'if' statement on line 1 (1272758813.py, line 2)",
     "output_type": "error",
     "traceback": [
      "\u001b[1;36m  Cell \u001b[1;32mIn[3], line 2\u001b[1;36m\u001b[0m\n\u001b[1;33m    print(\"5는 2보다 크다\")\u001b[0m\n\u001b[1;37m    ^\u001b[0m\n\u001b[1;31mIndentationError\u001b[0m\u001b[1;31m:\u001b[0m expected an indented block after 'if' statement on line 1\n"
     ]
    }
   ],
   "source": [
    "if 5 > 2:\n",
    "print(\"5는 2보다 크다\")"
   ]
  },
  {
   "cell_type": "markdown",
   "id": "6780a1b2-326d-460b-8999-883e117be97a",
   "metadata": {},
   "source": [
    "-----------"
   ]
  },
  {
   "cell_type": "markdown",
   "id": "284e672b-0e97-4f24-a308-b9938b304fdc",
   "metadata": {},
   "source": [
    "### 파이썬 변수 지정"
   ]
  },
  {
   "cell_type": "markdown",
   "id": "183c39f3-2057-47d6-9870-41a27e3eaf11",
   "metadata": {},
   "source": [
    "파이썬에서 문자나 단어에 변수를 지정할 수 있다."
   ]
  },
  {
   "cell_type": "code",
   "execution_count": 5,
   "id": "1fbcab27-f787-4026-a431-ad333d001ee4",
   "metadata": {},
   "outputs": [
    {
     "name": "stdout",
     "output_type": "stream",
     "text": [
      "5\n",
      "Hello, World!\n"
     ]
    }
   ],
   "source": [
    "'''\n",
    "예시)\n",
    "'''\n",
    "x = 5\n",
    "y = \"Hello, World!\"\n",
    "\n",
    "print(x)\n",
    "print(y)"
   ]
  },
  {
   "cell_type": "markdown",
   "id": "f1dba27a-69c1-4c79-b5d1-1901eb4bd707",
   "metadata": {},
   "source": [
    "-----------"
   ]
  },
  {
   "cell_type": "markdown",
   "id": "f8cc2d1c-d2ee-4dee-9f83-4a6e21a0702f",
   "metadata": {},
   "source": [
    "### 파이썬 주석 달기"
   ]
  },
  {
   "cell_type": "code",
   "execution_count": 8,
   "id": "af41b082-e99f-4ebd-8110-1e9200c6de96",
   "metadata": {},
   "outputs": [
    {
     "name": "stdout",
     "output_type": "stream",
     "text": [
      "Hello, World!\n"
     ]
    }
   ],
   "source": [
    "# 파이썬 주석달기\n",
    "\n",
    "'''\n",
    "여러줄 \n",
    "주석달기\n",
    "'''\n",
    "print(\"Hello, World!\")"
   ]
  },
  {
   "cell_type": "markdown",
   "id": "efd2f794-2288-4a09-9fa2-c79c319fd258",
   "metadata": {},
   "source": [
    "-----------"
   ]
  },
  {
   "cell_type": "markdown",
   "id": "d09528ae-aec1-408b-840c-574028bf9f5c",
   "metadata": {},
   "source": [
    "### 변수 지정하기"
   ]
  },
  {
   "cell_type": "code",
   "execution_count": 9,
   "id": "0697df3b-676b-4533-9d70-f60350fa5a3c",
   "metadata": {},
   "outputs": [
    {
     "name": "stdout",
     "output_type": "stream",
     "text": [
      "5\n",
      "Roy\n"
     ]
    }
   ],
   "source": [
    "x = 5\n",
    "y = \"Roy\"\n",
    "\n",
    "print(x)\n",
    "print(y)"
   ]
  },
  {
   "cell_type": "code",
   "execution_count": 11,
   "id": "60b68460-834e-485e-8dd6-a820ec5134f8",
   "metadata": {},
   "outputs": [
    {
     "name": "stdout",
     "output_type": "stream",
     "text": [
      "Sally\n"
     ]
    }
   ],
   "source": [
    "# 변수의 유형\n",
    "x = 4       # x의 변수 유형은 int임으로 숫자이다.\n",
    "x = \"Sally\" # x의 변수 유형 str임으로 글자이다.\n",
    "\n",
    "#파이썬의 코드는 위에서 아래로 계산하기 때문에 마지막으로 작성된 코드가 결과 값으로 나오게 된다.\n",
    "\n",
    "print(x)"
   ]
  },
  {
   "cell_type": "code",
   "execution_count": 13,
   "id": "0ea8806a-ee6f-4d03-99cf-f15a0a5cdd3b",
   "metadata": {},
   "outputs": [
    {
     "name": "stdout",
     "output_type": "stream",
     "text": [
      "3\n",
      "3\n",
      "3.0\n"
     ]
    }
   ],
   "source": [
    "#변수의 유형을 따로 지정하려면 캐스팅을 사용하면 된다.\n",
    "\n",
    "x = str(3)    # x는 3(문자)\n",
    "y = int(3)    # y는 3\n",
    "z = float(3)  # z는 3.0\n",
    "\n",
    "print(x)\n",
    "print(y)\n",
    "print(z)"
   ]
  },
  {
   "cell_type": "code",
   "execution_count": null,
   "id": "4df79443-9cf3-41f5-a672-626e8b2adee7",
   "metadata": {},
   "outputs": [],
   "source": []
  }
 ],
 "metadata": {
  "kernelspec": {
   "display_name": "Python 3 (ipykernel)",
   "language": "python",
   "name": "python3"
  },
  "language_info": {
   "codemirror_mode": {
    "name": "ipython",
    "version": 3
   },
   "file_extension": ".py",
   "mimetype": "text/x-python",
   "name": "python",
   "nbconvert_exporter": "python",
   "pygments_lexer": "ipython3",
   "version": "3.11.7"
  }
 },
 "nbformat": 4,
 "nbformat_minor": 5
}
